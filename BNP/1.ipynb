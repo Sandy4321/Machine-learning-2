{
 "cells": [
  {
   "cell_type": "code",
   "execution_count": 1,
   "metadata": {},
   "outputs": [],
   "source": [
    "import pandas as pd\n",
    "import numpy as np\n",
    "import xgboost as xgb\n",
    "import seaborn as sns\n",
    "from sklearn.preprocessing import OneHotEncoder\n",
    "from collections import Counter\n",
    "from sklearn.model_selection import KFold\n",
    "from sklearn.metrics import accuracy_score \n",
    "from sklearn.model_selection import train_test_split\n",
    "from sklearn.linear_model import LogisticRegression\n",
    "from sklearn.naive_bayes import MultinomialNB"
   ]
  },
  {
   "cell_type": "code",
   "execution_count": 2,
   "metadata": {
    "collapsed": true
   },
   "outputs": [],
   "source": [
    "import matplotlib.pyplot as plt\n",
    "%matplotlib inline\n",
    "plt.style.use('ggplot')\n",
    "plt.rcParams['figure.figsize'] = (12,5)"
   ]
  },
  {
   "cell_type": "markdown",
   "metadata": {},
   "source": [
    "## One-hot-end encoding for features"
   ]
  },
  {
   "cell_type": "code",
   "execution_count": 3,
   "metadata": {
    "collapsed": true
   },
   "outputs": [],
   "source": [
    "def log_loss_score(y_true, p_pred):\n",
    "    for i in xrange(p_pred.shape[0]):\n",
    "        if p_pred[i] < 1e-15:\n",
    "            p_pred[i] = 1e-15\n",
    "            \n",
    "        elif p_pred[i] > 1-1e-15:\n",
    "            p_pred[i] = 1-1e-15\n",
    "            \n",
    "    return  - np.mean( y_true * np.log(p_pred) + (1-y_true) * np.log(1-p_pred) )"
   ]
  },
  {
   "cell_type": "code",
   "execution_count": 4,
   "metadata": {
    "collapsed": true
   },
   "outputs": [],
   "source": [
    "class CategoricalFeatureEncoder():\n",
    "    \n",
    "    def __init__(self, cat_features):\n",
    "        \n",
    "        self.cat_features = cat_features\n",
    "        self.features = {}\n",
    "        self.features_num = {}\n",
    "     \n",
    "   \n",
    "    def fit_transform(self, X_fit):\n",
    "        self.fit(X_fit)\n",
    "        return self.transform(X_fit)\n",
    "    \n",
    "    def fit(self, X_fit):\n",
    "        \n",
    "        for feature_name in self.cat_features:\n",
    "            col = X_fit.loc[:,feature_name]\n",
    "            self.fit_column(col)\n",
    "        \n",
    "                \n",
    "    def transform(self, X_transform):\n",
    "        for feature_name in self.cat_features:\n",
    "        \n",
    "            col = X_transform.loc[:,feature_name] \n",
    "            OHC_column = self.transform_column(col)\n",
    "\n",
    "            #create new names\n",
    "            col_names = []\n",
    "            for i in xrange(self.features_num[feature_name]):\n",
    "                col_names.append(feature_name + '__' + str(i))\n",
    "\n",
    "                \n",
    "                \n",
    "            OCH_pd = pd.DataFrame(OHC_column, columns=col_names)\n",
    "            X_transform = pd.concat([X_transform, OCH_pd], axis=1).drop(feature_name, axis=1)\n",
    "            \n",
    "            \n",
    "        return X_transform\n",
    "        \n",
    "        \n",
    "    def fit_column(self, col):\n",
    "        \n",
    "        col_name = col.name\n",
    "        col = col.dropna()\n",
    "        col = np.array(col)\n",
    "        \n",
    "        self.features[col_name] = {k: v for v, k in enumerate(list(np.unique(col)))}    \n",
    "        self.features_num[col_name] = len(self.features[col_name])\n",
    "    \n",
    "    def transform_column(self, col):\n",
    "        \n",
    "        col_name = col.name\n",
    "        col = np.array(col)\n",
    "        OHC_column = np.zeros((col.shape[0], self.features_num[col_name]))\n",
    "\n",
    "        for i in xrange(col.shape[0]):\n",
    "            if col[i] in self.features[col_name]:\n",
    "                \n",
    "                OHC_column[i, self.features[col_name][col[i]]] = 1\n",
    "        \n",
    "        return OHC_column\n",
    "    "
   ]
  },
  {
   "cell_type": "markdown",
   "metadata": {},
   "source": [
    "## v22 feature"
   ]
  },
  {
   "cell_type": "code",
   "execution_count": 5,
   "metadata": {},
   "outputs": [],
   "source": [
    "class v22_feature():\n",
    "    \n",
    "    def __init__(self, alpha=0):\n",
    "        self.v22_dict = {}\n",
    "        self.globmean = 0\n",
    "        self.alpha = alpha\n",
    "        \n",
    "        \n",
    "    def fit(self, X_fit, target_fit):\n",
    "        \n",
    "        self.globmean = target_fit.mean()\n",
    "        \n",
    "        for i in xrange(X_fit.shape[0]):\n",
    "    \n",
    "            if X_fit.v22[i] in self.v22_dict:\n",
    "                self.v22_dict[X_fit.v22[i]].append(target_fit[i])\n",
    "                \n",
    "            else:\n",
    "                self.v22_dict[X_fit.v22[i]] = [ target_fit[i] ]\n",
    "        \n",
    "        \n",
    "        for i in self.v22_dict:\n",
    "            #self.v22_dict[i] = np.median(self.v22_dict[i])\n",
    "            #self.v22_dict[i] = np.mean(self.v22_dict[i])\n",
    "            K = len(self.v22_dict[i])\n",
    "            meanY = np.mean(self.v22_dict[i])\n",
    "            self.v22_dict[i] =  (meanY * K + self.globmean * self.alpha) / (K + self.alpha)\n",
    "\n",
    "        self.v22_dict[np.nan] = target_fit.mean()\n",
    "        \n",
    "    def transform(self, X_transform):\n",
    "        v22_f = np.zeros(X_transform.shape[0])\n",
    "\n",
    "        for i in range(X_transform.shape[0]):\n",
    "            \n",
    "            if X_transform.v22[i] in self.v22_dict:\n",
    "                v22_f[i] = self.v22_dict[X_transform.v22[i]]\n",
    "                \n",
    "            else:\n",
    "                v22_f[i] = self.v22_dict[np.nan]\n",
    "        \n",
    "        X_transform['v22_f'] = v22_f\n",
    "        \n",
    "        return X_transform"
   ]
  },
  {
   "cell_type": "markdown",
   "metadata": {},
   "source": [
    "## Load and prepare data"
   ]
  },
  {
   "cell_type": "code",
   "execution_count": 6,
   "metadata": {
    "collapsed": true
   },
   "outputs": [],
   "source": [
    "data_train = pd.read_csv('data/train.csv')\n",
    "data_test = pd.read_csv('data/test.csv')\n",
    "\n",
    "y_data_train = data_train.loc[:,'target'].values\n",
    "\n",
    "#train\n",
    "data_train = data_train.drop(['target', 'ID'], axis=1)\n",
    "data_train = data_train.fillna(data_train.median())\n",
    "#data_train = data_train.fillna('NaaN')\n",
    "\n",
    "#test\n",
    "subm_id = data_test.ID\n",
    "data_test = data_test.drop(['ID'], axis=1)\n",
    "data_test = data_test.fillna(data_test.median())\n",
    "#data_test = data_test.fillna('NaaN')\n",
    "\n",
    "#пока дропаем v22\n",
    "#data_train = data_train.drop(['v22'], axis=1)\n",
    "# data_test = data_test.drop(['v22'], axis=1)"
   ]
  },
  {
   "cell_type": "markdown",
   "metadata": {},
   "source": [
    "## Prepare data"
   ]
  },
  {
   "cell_type": "code",
   "execution_count": 7,
   "metadata": {
    "collapsed": true
   },
   "outputs": [],
   "source": [
    "\n",
    "cat_features = ['v3', 'v24', 'v30', 'v31', 'v38', 'v47', 'v52', 'v56', 'v62', 'v66', \n",
    "                'v71', 'v74', 'v75', 'v79', 'v91', 'v107', 'v110', 'v112', 'v113', 'v125', 'v129']\n",
    "\n",
    "fe = CategoricalFeatureEncoder(cat_features)"
   ]
  },
  {
   "cell_type": "markdown",
   "metadata": {},
   "source": [
    "### Векторизация категориальных признаков"
   ]
  },
  {
   "cell_type": "code",
   "execution_count": 22,
   "metadata": {},
   "outputs": [],
   "source": [
    "X_train1, X_test_, y_train1, y_test = train_test_split(data_train, y_data_train, test_size=0.1, random_state=42)\n",
    "\n",
    "\n",
    "X_train1 = X_train1.reset_index(drop=True)\n",
    "X_test_ = X_test_.reset_index(drop=True)\n",
    "\n",
    "X_train1 = fe.fit_transform(X_train1)\n",
    "X_test_ = fe.transform(X_test_)"
   ]
  },
  {
   "cell_type": "markdown",
   "metadata": {},
   "source": [
    "### Новый признак из v22"
   ]
  },
  {
   "cell_type": "code",
   "execution_count": 23,
   "metadata": {},
   "outputs": [],
   "source": [
    "X_train_, X_train22, y_train, y_train22 = train_test_split(X_train1, y_train1, test_size=0.5, random_state=42)\n",
    "\n",
    "X_train22 = X_train22.reset_index(drop=True)\n",
    "X_train_ = X_train_.reset_index(drop=True)"
   ]
  },
  {
   "cell_type": "code",
   "execution_count": 24,
   "metadata": {},
   "outputs": [],
   "source": [
    "fe22 = v22_feature(alpha=10)\n",
    "fe22.fit(X_train22, y_train22)\n",
    "\n",
    "X_train_ = fe22.transform(X_train_)\n",
    "X_test_ = fe22.transform(X_test_)"
   ]
  },
  {
   "cell_type": "code",
   "execution_count": null,
   "metadata": {},
   "outputs": [],
   "source": [
    "X_train = X_train_.drop('v22', axis=1)\n",
    "X_test = X_test_.drop('v22', axis=1)"
   ]
  },
  {
   "cell_type": "markdown",
   "metadata": {},
   "source": [
    "## Predict"
   ]
  },
  {
   "cell_type": "markdown",
   "metadata": {},
   "source": [
    "## XGB"
   ]
  },
  {
   "cell_type": "code",
   "execution_count": 26,
   "metadata": {},
   "outputs": [
    {
     "name": "stdout",
     "output_type": "stream",
     "text": [
      "fit done\n",
      "CPU times: user 36min 51s, sys: 1.23 s, total: 36min 52s\n",
      "Wall time: 4min 37s\n"
     ]
    }
   ],
   "source": [
    "%%time\n",
    "clf_xgb = xgb.XGBClassifier(n_estimators=1500, n_jobs=8, silent=False, max_depth=5, random_state=1, learning_rate=0.01)\n",
    "\n",
    "clf_xgb.fit(X_train, y_train)\n",
    "print 'fit done'\n",
    "\n",
    "p_xgb_pred = clf_xgb.predict_proba(X_test)[:,1]\n",
    "y_xgb_pred = clf_xgb.predict(X_test)"
   ]
  },
  {
   "cell_type": "code",
   "execution_count": 32,
   "metadata": {},
   "outputs": [
    {
     "name": "stdout",
     "output_type": "stream",
     "text": [
      "acc =  0.781946995539\n",
      "log_loss =  0.460593128677\n"
     ]
    }
   ],
   "source": [
    "print 'acc = ', accuracy_score(y_test, y_xgb_pred)\n",
    "print 'log_loss = ', log_loss_score(y_test, p_xgb_pred)"
   ]
  },
  {
   "cell_type": "markdown",
   "metadata": {},
   "source": [
    "## Logistic regression"
   ]
  },
  {
   "cell_type": "code",
   "execution_count": 14,
   "metadata": {},
   "outputs": [
    {
     "name": "stdout",
     "output_type": "stream",
     "text": [
      "fit done\n",
      "CPU times: user 1min 5s, sys: 443 ms, total: 1min 5s\n",
      "Wall time: 1min 5s\n"
     ]
    }
   ],
   "source": [
    "%%time\n",
    "\n",
    "clf_log = LogisticRegression(C=1)\n",
    "\n",
    "clf_log.fit(X_train, y_train)\n",
    "print 'fit done'\n",
    "p_log_pred = clf_log.predict_proba(X_test)[:,1]\n",
    "\n",
    "y_log_pred = clf_log.predict(X_test)"
   ]
  },
  {
   "cell_type": "code",
   "execution_count": 17,
   "metadata": {},
   "outputs": [
    {
     "name": "stdout",
     "output_type": "stream",
     "text": [
      "acc =  0.774424910347\n",
      "log_loss =  0.47511210859\n"
     ]
    }
   ],
   "source": [
    "print 'acc = ', accuracy_score(y_test, y_log_pred)\n",
    "print 'log_loss = ', log_loss_score(y_test, p_log_pred)"
   ]
  },
  {
   "cell_type": "markdown",
   "metadata": {},
   "source": [
    "## Predict"
   ]
  },
  {
   "cell_type": "code",
   "execution_count": 33,
   "metadata": {},
   "outputs": [],
   "source": [
    "X_subm = fe.transform(data_test)\n",
    "X_subm = fe22.transform(X_subm)\n",
    "X_subm = X_subm.drop('v22', axis=1)"
   ]
  },
  {
   "cell_type": "code",
   "execution_count": 38,
   "metadata": {},
   "outputs": [],
   "source": [
    "p_subm = clf_xgb.predict_proba(X_subm)[:,1]"
   ]
  },
  {
   "cell_type": "code",
   "execution_count": 36,
   "metadata": {},
   "outputs": [
    {
     "data": {
      "text/html": [
       "<div>\n",
       "<style>\n",
       "    .dataframe thead tr:only-child th {\n",
       "        text-align: right;\n",
       "    }\n",
       "\n",
       "    .dataframe thead th {\n",
       "        text-align: left;\n",
       "    }\n",
       "\n",
       "    .dataframe tbody tr th {\n",
       "        vertical-align: top;\n",
       "    }\n",
       "</style>\n",
       "<table border=\"1\" class=\"dataframe\">\n",
       "  <thead>\n",
       "    <tr style=\"text-align: right;\">\n",
       "      <th></th>\n",
       "      <th>ID</th>\n",
       "      <th>PredictedProb</th>\n",
       "    </tr>\n",
       "  </thead>\n",
       "  <tbody>\n",
       "    <tr>\n",
       "      <th>0</th>\n",
       "      <td>0</td>\n",
       "      <td>0.213102</td>\n",
       "    </tr>\n",
       "    <tr>\n",
       "      <th>1</th>\n",
       "      <td>1</td>\n",
       "      <td>0.882937</td>\n",
       "    </tr>\n",
       "    <tr>\n",
       "      <th>2</th>\n",
       "      <td>2</td>\n",
       "      <td>0.832178</td>\n",
       "    </tr>\n",
       "    <tr>\n",
       "      <th>3</th>\n",
       "      <td>7</td>\n",
       "      <td>0.610653</td>\n",
       "    </tr>\n",
       "    <tr>\n",
       "      <th>4</th>\n",
       "      <td>10</td>\n",
       "      <td>0.780381</td>\n",
       "    </tr>\n",
       "  </tbody>\n",
       "</table>\n",
       "</div>"
      ],
      "text/plain": [
       "   ID  PredictedProb\n",
       "0   0       0.213102\n",
       "1   1       0.882937\n",
       "2   2       0.832178\n",
       "3   7       0.610653\n",
       "4  10       0.780381"
      ]
     },
     "execution_count": 36,
     "metadata": {},
     "output_type": "execute_result"
    }
   ],
   "source": [
    "SS = pd.read_csv('data/subm.csv')\n",
    "SS.head()"
   ]
  },
  {
   "cell_type": "code",
   "execution_count": 39,
   "metadata": {},
   "outputs": [
    {
     "data": {
      "text/plain": [
       "array([ 0.32206333,  0.85400695,  0.8185541 , ...,  0.852319  ,\n",
       "        0.88559425,  0.51814526], dtype=float32)"
      ]
     },
     "execution_count": 39,
     "metadata": {},
     "output_type": "execute_result"
    }
   ],
   "source": [
    "p_subm"
   ]
  },
  {
   "cell_type": "code",
   "execution_count": 40,
   "metadata": {},
   "outputs": [],
   "source": [
    "SUBM = pd.DataFrame(columns=['ID', 'PredictedProb'])"
   ]
  },
  {
   "cell_type": "code",
   "execution_count": 43,
   "metadata": {},
   "outputs": [],
   "source": [
    "SUBM.ID = subm_id\n",
    "SUBM.PredictedProb = p_subm"
   ]
  },
  {
   "cell_type": "code",
   "execution_count": 45,
   "metadata": {},
   "outputs": [
    {
     "data": {
      "text/html": [
       "<div>\n",
       "<style>\n",
       "    .dataframe thead tr:only-child th {\n",
       "        text-align: right;\n",
       "    }\n",
       "\n",
       "    .dataframe thead th {\n",
       "        text-align: left;\n",
       "    }\n",
       "\n",
       "    .dataframe tbody tr th {\n",
       "        vertical-align: top;\n",
       "    }\n",
       "</style>\n",
       "<table border=\"1\" class=\"dataframe\">\n",
       "  <thead>\n",
       "    <tr style=\"text-align: right;\">\n",
       "      <th></th>\n",
       "      <th>ID</th>\n",
       "      <th>PredictedProb</th>\n",
       "    </tr>\n",
       "  </thead>\n",
       "  <tbody>\n",
       "    <tr>\n",
       "      <th>0</th>\n",
       "      <td>0</td>\n",
       "      <td>0.322063</td>\n",
       "    </tr>\n",
       "    <tr>\n",
       "      <th>1</th>\n",
       "      <td>1</td>\n",
       "      <td>0.854007</td>\n",
       "    </tr>\n",
       "    <tr>\n",
       "      <th>2</th>\n",
       "      <td>2</td>\n",
       "      <td>0.818554</td>\n",
       "    </tr>\n",
       "    <tr>\n",
       "      <th>3</th>\n",
       "      <td>7</td>\n",
       "      <td>0.628068</td>\n",
       "    </tr>\n",
       "    <tr>\n",
       "      <th>4</th>\n",
       "      <td>10</td>\n",
       "      <td>0.744074</td>\n",
       "    </tr>\n",
       "  </tbody>\n",
       "</table>\n",
       "</div>"
      ],
      "text/plain": [
       "   ID  PredictedProb\n",
       "0   0       0.322063\n",
       "1   1       0.854007\n",
       "2   2       0.818554\n",
       "3   7       0.628068\n",
       "4  10       0.744074"
      ]
     },
     "execution_count": 45,
     "metadata": {},
     "output_type": "execute_result"
    }
   ],
   "source": [
    "SUBM.head()"
   ]
  },
  {
   "cell_type": "code",
   "execution_count": 47,
   "metadata": {},
   "outputs": [],
   "source": [
    "SUBM.to_csv('data/subm.csv')"
   ]
  },
  {
   "cell_type": "code",
   "execution_count": null,
   "metadata": {},
   "outputs": [],
   "source": []
  }
 ],
 "metadata": {
  "kernelspec": {
   "display_name": "Python 2",
   "language": "python",
   "name": "python2"
  },
  "language_info": {
   "codemirror_mode": {
    "name": "ipython",
    "version": 2
   },
   "file_extension": ".py",
   "mimetype": "text/x-python",
   "name": "python",
   "nbconvert_exporter": "python",
   "pygments_lexer": "ipython2",
   "version": "2.7.14"
  }
 },
 "nbformat": 4,
 "nbformat_minor": 2
}
